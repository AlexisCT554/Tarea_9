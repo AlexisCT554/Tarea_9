{
  "nbformat": 4,
  "nbformat_minor": 0,
  "metadata": {
    "colab": {
      "name": "Tarea_9.ipynb",
      "provenance": []
    },
    "kernelspec": {
      "name": "python3",
      "display_name": "Python 3"
    },
    "language_info": {
      "name": "python"
    }
  },
  "cells": [
    {
      "cell_type": "code",
      "metadata": {
        "id": "tlWorTa15U9t"
      },
      "source": [
        "class StackADT:\n",
        "  def __init__(self):\n",
        "    self.__data = list()\n",
        "\n",
        "  #Regresa true si la lista esta vacia\n",
        "  def is_empty(self):\n",
        "    return len(self.__data) == 0\n",
        "  \n",
        "  def get_length(self):\n",
        "    return len(self.__data)\n",
        "\n",
        "  def pop(self):\n",
        "    if self.is_empty():\n",
        "      print(\"Pila vacia, nada que sacar\")\n",
        "    else:\n",
        "      return self.__data.pop()\n",
        "\n",
        "  def peek(self):\n",
        "    if self.is_empty():\n",
        "      print(\"Pila vacia, nada que consultar\")\n",
        "    else:\n",
        "      return self.__data[ -1 ]\n",
        "  \n",
        "  def push(self, value):\n",
        "    self.__data.append(value)\n",
        "\n",
        "  def to_string(self):\n",
        "    for item in self.__data[::-1]:\n",
        "      print(f\"| {item} |\")\n",
        "    \n",
        "\n",
        "\n"
      ],
      "execution_count": 7,
      "outputs": []
    },
    {
      "cell_type": "markdown",
      "metadata": {
        "id": "WDDY1Jgg5bhn"
      },
      "source": [
        "#Aplicacion de pilas: Blanceo de llaves en programacion.\n",
        "1.- Hacer unprograma que impemente el algoritmo de pila vacía para verificar balanceo de llaves ( '{' y '}') y balanceo de parénteisis ( '(' y ')') para codigo de programacion C y, C++ y Java\n",
        "\n",
        "2.- Tiene que detener el análisis cuando se detcte que los parecentesis o llaves estan desbalanceados\n",
        "\n",
        "3.-Idealmente (No obligatorio) encapsular esta lógica en una clase (ADT) de la POO"
      ]
    },
    {
      "cell_type": "code",
      "metadata": {
        "id": "-NvqsJL35esh"
      },
      "source": [
        "class balanceo_llaves:\n",
        "    def __init__ ( self , ruta_archivo ):\n",
        "        self.read_data( ruta_archivo )\n",
        "    \n",
        "    def read_data( self , entrada ):\n",
        "        self.entrada = open( archivo , 'rt')\n",
        "        self.codigo = self.entrada.read()\n",
        "\n",
        "    def verificacion_codigo( self ):\n",
        "        \n",
        "        self.pilaControl = StackADT()\n",
        "        self.pilaControl.push(\"#\") #caracter de pila vacia\n",
        "        self.pilaControl2 = StackADT()\n",
        "        self.pilaControl2.push(\"#\") #caracter de pila vacia\n",
        "\n",
        "        for letra in self.codigo:\n",
        "            #print(f\"---> { letra } <---\")\n",
        "            if self.pilaControl.get_length() != 0:\n",
        "\n",
        "                if letra == '{':          #Regla 1\n",
        "                    self.pilaControl.push('{')\n",
        "                elif letra == '}':        #Regla 2\n",
        "                    self.pilaControl.pop()\n",
        "                else:\n",
        "                    pass\n",
        "            else:\n",
        "                break\n",
        " \n",
        "        for letra in self.codigo:\n",
        "          if self.pilaControl2.get_length() != 0:\n",
        "\n",
        "            if letra =='(':             #Regla 1 (Con Parentesis)\n",
        "              self.pilaControl2.push(\"(\")\n",
        "            elif letra == ')':          #Regla 2 (Con Parentesis)\n",
        "              self.pilaControl2.pop()\n",
        "            else:\n",
        "              pass\n",
        "          else:\n",
        "            break\n",
        "\n",
        "        if self.pilaControl.peek() == '#':\n",
        "            print(\"\\nEl codio proporcionado está correctamente balanceado.\")\n",
        "        else:\n",
        "            print(\"\\nEl codigo no esta balanceado en llaves { y } \")\n",
        "\n",
        "        if self.pilaControl2.peek() == '#':\n",
        "            print(\"\\nEl codio proporcionado está correctamente balanceado.\")  \n",
        "        else:  \n",
        "            print(\"\\nEl codigo no esta balanceado en parentesis ( y ) \")\n"
      ],
      "execution_count": 34,
      "outputs": []
    },
    {
      "cell_type": "code",
      "metadata": {
        "colab": {
          "base_uri": "https://localhost:8080/"
        },
        "id": "qWgC_BPZ6TEL",
        "outputId": "2b095c13-11a7-4a74-fe56-22926f9e7260"
      },
      "source": [
        "archivo = input(\"Introduce el nombre del archivo para usar el programa:      \")\n",
        "ejemplo = balanceo_llaves( archivo )\n",
        "ejemplo.verificacion_codigo()"
      ],
      "execution_count": 35,
      "outputs": [
        {
          "output_type": "stream",
          "name": "stdout",
          "text": [
            "Introduce el nombre del archivo para usar el programa:      ejemplo.txt\n",
            "Pila vacia, nada que consultar\n",
            "\n",
            "El codigo no esta balanceado en llaves { y } \n",
            "\n",
            "El codigo no esta balanceado en parentesis ( y ) \n"
          ]
        }
      ]
    }
  ]
}